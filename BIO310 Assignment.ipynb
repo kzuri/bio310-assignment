{
 "cells": [
  {
   "cell_type": "code",
   "execution_count": 7,
   "metadata": {},
   "outputs": [],
   "source": [
    "import pandas as pd\n",
    "import numpy as np\n",
    "\n",
    "import matplotlib.pyplot as plt"
   ]
  },
  {
   "cell_type": "code",
   "execution_count": 8,
   "metadata": {},
   "outputs": [],
   "source": [
    "df1 = pd.read_csv('2008-science-rand-sample.csv')\n",
    "df2 = pd.read_csv('2009-science-rand-sample.csv')"
   ]
  },
  {
   "cell_type": "code",
   "execution_count": 9,
   "metadata": {},
   "outputs": [
    {
     "data": {
      "text/html": [
       "<div>\n",
       "<style scoped>\n",
       "    .dataframe tbody tr th:only-of-type {\n",
       "        vertical-align: middle;\n",
       "    }\n",
       "\n",
       "    .dataframe tbody tr th {\n",
       "        vertical-align: top;\n",
       "    }\n",
       "\n",
       "    .dataframe thead th {\n",
       "        text-align: right;\n",
       "    }\n",
       "</style>\n",
       "<table border=\"1\" class=\"dataframe\">\n",
       "  <thead>\n",
       "    <tr style=\"text-align: right;\">\n",
       "      <th></th>\n",
       "      <th>Unnamed: 0</th>\n",
       "      <th>name</th>\n",
       "      <th>links</th>\n",
       "      <th>type</th>\n",
       "      <th>Year</th>\n",
       "      <th>Article Type</th>\n",
       "      <th>Total</th>\n",
       "      <th>Citations in 2010</th>\n",
       "    </tr>\n",
       "  </thead>\n",
       "  <tbody>\n",
       "    <tr>\n",
       "      <th>0</th>\n",
       "      <td>0</td>\n",
       "      <td>The Microbial Engines That Drive Earth's Bioge...</td>\n",
       "      <td>https://science.sciencemag.org/content/320/587...</td>\n",
       "      <td>Special Reviews</td>\n",
       "      <td>2008</td>\n",
       "      <td>Review</td>\n",
       "      <td>1358</td>\n",
       "      <td>40</td>\n",
       "    </tr>\n",
       "    <tr>\n",
       "      <th>1</th>\n",
       "      <td>264</td>\n",
       "      <td>The Miller Volcanic Spark Discharge Experiment</td>\n",
       "      <td>https://science.sciencemag.org/content/322/590...</td>\n",
       "      <td>Brevia</td>\n",
       "      <td>2008</td>\n",
       "      <td>Research Article</td>\n",
       "      <td>197</td>\n",
       "      <td>24</td>\n",
       "    </tr>\n",
       "    <tr>\n",
       "      <th>2</th>\n",
       "      <td>131</td>\n",
       "      <td>Serotonin Modulates Behavioral Reactions to Un...</td>\n",
       "      <td>https://science.sciencemag.org/content/320/588...</td>\n",
       "      <td>Brevia</td>\n",
       "      <td>2008</td>\n",
       "      <td>Research Article</td>\n",
       "      <td>265</td>\n",
       "      <td>21</td>\n",
       "    </tr>\n",
       "    <tr>\n",
       "      <th>3</th>\n",
       "      <td>344</td>\n",
       "      <td>Enzymes Without Borders: Mobilizing Substrates...</td>\n",
       "      <td>https://science.sciencemag.org/content/321/588...</td>\n",
       "      <td>Review</td>\n",
       "      <td>2008</td>\n",
       "      <td>Review</td>\n",
       "      <td>43</td>\n",
       "      <td>7</td>\n",
       "    </tr>\n",
       "    <tr>\n",
       "      <th>4</th>\n",
       "      <td>351</td>\n",
       "      <td>Long-Term Sea-Level Fluctuations Driven by Oce...</td>\n",
       "      <td>https://science.sciencemag.org/content/319/586...</td>\n",
       "      <td>Research Article</td>\n",
       "      <td>2008</td>\n",
       "      <td>Research Article</td>\n",
       "      <td>458</td>\n",
       "      <td>29</td>\n",
       "    </tr>\n",
       "    <tr>\n",
       "      <th>5</th>\n",
       "      <td>130</td>\n",
       "      <td>Direct Imaging of Multiple Planets Orbiting th...</td>\n",
       "      <td>https://science.sciencemag.org/content/322/590...</td>\n",
       "      <td>Research Article</td>\n",
       "      <td>2008</td>\n",
       "      <td>Research Article</td>\n",
       "      <td>1149</td>\n",
       "      <td>143</td>\n",
       "    </tr>\n",
       "    <tr>\n",
       "      <th>6</th>\n",
       "      <td>125</td>\n",
       "      <td>Magnetic Source Separation in Earth's Outer Core</td>\n",
       "      <td>https://science.sciencemag.org/content/321/589...</td>\n",
       "      <td>Brevia</td>\n",
       "      <td>2008</td>\n",
       "      <td>Research Article</td>\n",
       "      <td>25</td>\n",
       "      <td>0</td>\n",
       "    </tr>\n",
       "    <tr>\n",
       "      <th>7</th>\n",
       "      <td>40</td>\n",
       "      <td>Stochasticity and Cell Fate</td>\n",
       "      <td>https://science.sciencemag.org/content/320/587...</td>\n",
       "      <td>Review</td>\n",
       "      <td>2008</td>\n",
       "      <td>Review</td>\n",
       "      <td>442</td>\n",
       "      <td>40</td>\n",
       "    </tr>\n",
       "    <tr>\n",
       "      <th>8</th>\n",
       "      <td>334</td>\n",
       "      <td>Core Signaling Pathways in Human Pancreatic Ca...</td>\n",
       "      <td>https://science.sciencemag.org/content/321/589...</td>\n",
       "      <td>Research Article</td>\n",
       "      <td>2008</td>\n",
       "      <td>Research Article</td>\n",
       "      <td>2854</td>\n",
       "      <td>274</td>\n",
       "    </tr>\n",
       "    <tr>\n",
       "      <th>9</th>\n",
       "      <td>73</td>\n",
       "      <td>Bat White-Nose Syndrome: An Emerging Fungal Pa...</td>\n",
       "      <td>https://science.sciencemag.org/content/323/591...</td>\n",
       "      <td>Brevia</td>\n",
       "      <td>2008</td>\n",
       "      <td>Research Article</td>\n",
       "      <td>600</td>\n",
       "      <td>30</td>\n",
       "    </tr>\n",
       "    <tr>\n",
       "      <th>10</th>\n",
       "      <td>324</td>\n",
       "      <td>Optical Negative Refraction in Bulk Metamateri...</td>\n",
       "      <td>https://science.sciencemag.org/content/321/589...</td>\n",
       "      <td>Brevia</td>\n",
       "      <td>2008</td>\n",
       "      <td>Research Article</td>\n",
       "      <td>649</td>\n",
       "      <td>73</td>\n",
       "    </tr>\n",
       "    <tr>\n",
       "      <th>11</th>\n",
       "      <td>254</td>\n",
       "      <td>Quantum State Engineering and Precision Metrol...</td>\n",
       "      <td>https://science.sciencemag.org/content/320/588...</td>\n",
       "      <td>Review</td>\n",
       "      <td>2008</td>\n",
       "      <td>Review</td>\n",
       "      <td>264</td>\n",
       "      <td>28</td>\n",
       "    </tr>\n",
       "    <tr>\n",
       "      <th>12</th>\n",
       "      <td>197</td>\n",
       "      <td>Mercury's Exosphere: Observations During MESSE...</td>\n",
       "      <td>https://science.sciencemag.org/content/321/588...</td>\n",
       "      <td>Special Reports</td>\n",
       "      <td>2008</td>\n",
       "      <td>Research Article</td>\n",
       "      <td>60</td>\n",
       "      <td>1</td>\n",
       "    </tr>\n",
       "  </tbody>\n",
       "</table>\n",
       "</div>"
      ],
      "text/plain": [
       "    Unnamed: 0                                               name  \\\n",
       "0            0  The Microbial Engines That Drive Earth's Bioge...   \n",
       "1          264     The Miller Volcanic Spark Discharge Experiment   \n",
       "2          131  Serotonin Modulates Behavioral Reactions to Un...   \n",
       "3          344  Enzymes Without Borders: Mobilizing Substrates...   \n",
       "4          351  Long-Term Sea-Level Fluctuations Driven by Oce...   \n",
       "5          130  Direct Imaging of Multiple Planets Orbiting th...   \n",
       "6          125   Magnetic Source Separation in Earth's Outer Core   \n",
       "7           40                        Stochasticity and Cell Fate   \n",
       "8          334  Core Signaling Pathways in Human Pancreatic Ca...   \n",
       "9           73  Bat White-Nose Syndrome: An Emerging Fungal Pa...   \n",
       "10         324  Optical Negative Refraction in Bulk Metamateri...   \n",
       "11         254  Quantum State Engineering and Precision Metrol...   \n",
       "12         197  Mercury's Exosphere: Observations During MESSE...   \n",
       "\n",
       "                                                links              type  Year  \\\n",
       "0   https://science.sciencemag.org/content/320/587...   Special Reviews  2008   \n",
       "1   https://science.sciencemag.org/content/322/590...            Brevia  2008   \n",
       "2   https://science.sciencemag.org/content/320/588...            Brevia  2008   \n",
       "3   https://science.sciencemag.org/content/321/588...            Review  2008   \n",
       "4   https://science.sciencemag.org/content/319/586...  Research Article  2008   \n",
       "5   https://science.sciencemag.org/content/322/590...  Research Article  2008   \n",
       "6   https://science.sciencemag.org/content/321/589...            Brevia  2008   \n",
       "7   https://science.sciencemag.org/content/320/587...            Review  2008   \n",
       "8   https://science.sciencemag.org/content/321/589...  Research Article  2008   \n",
       "9   https://science.sciencemag.org/content/323/591...            Brevia  2008   \n",
       "10  https://science.sciencemag.org/content/321/589...            Brevia  2008   \n",
       "11  https://science.sciencemag.org/content/320/588...            Review  2008   \n",
       "12  https://science.sciencemag.org/content/321/588...   Special Reports  2008   \n",
       "\n",
       "        Article Type  Total  Citations in 2010  \n",
       "0             Review   1358                 40  \n",
       "1   Research Article    197                 24  \n",
       "2   Research Article    265                 21  \n",
       "3             Review     43                  7  \n",
       "4   Research Article    458                 29  \n",
       "5   Research Article   1149                143  \n",
       "6   Research Article     25                  0  \n",
       "7             Review    442                 40  \n",
       "8   Research Article   2854                274  \n",
       "9   Research Article    600                 30  \n",
       "10  Research Article    649                 73  \n",
       "11            Review    264                 28  \n",
       "12  Research Article     60                  1  "
      ]
     },
     "execution_count": 9,
     "metadata": {},
     "output_type": "execute_result"
    }
   ],
   "source": [
    "df1"
   ]
  },
  {
   "cell_type": "code",
   "execution_count": 22,
   "metadata": {},
   "outputs": [
    {
     "data": {
      "image/png": "[encoded data removed]",
      "text/plain": [
       "<Figure size 576x360 with 1 Axes>"
      ]
     },
     "metadata": {
      "needs_background": "light"
     },
     "output_type": "display_data"
    }
   ],
   "source": [
    "plt.figure(figsize=(8,5))\n",
    "\n",
    "plt.hist([df1[df1['Article Type'] == 'Research Article']['Citations in 2010'],\n",
    "          df1[df1['Article Type'] == 'Review']['Citations in 2010']],\n",
    "         \n",
    "         bins=16,\n",
    "         ec='black',\n",
    "         color=['blue', 'red'],\n",
    "         stacked=True,\n",
    "         label = ['Research Articles','Review Articles']\n",
    "        )\n",
    "\n",
    "plt.legend()\n",
    "plt.xlabel('No. of Citations')\n",
    "plt.ylabel('Frequency')\n",
    "plt.title('Distribution of number of citations received in 2010 by articles published in 2008');\n"
   ]
  },
  {
   "cell_type": "code",
   "execution_count": 21,
   "metadata": {},
   "outputs": [
    {
     "data": {
      "image/png": "[encoded data removed]",
      "text/plain": [
       "<Figure size 576x360 with 1 Axes>"
      ]
     },
     "metadata": {
      "needs_background": "light"
     },
     "output_type": "display_data"
    }
   ],
   "source": [
    "plt.figure(figsize=(8,5))\n",
    "plt.hist([df2[df2['Article Type'] == 'Research Article']['Citations in 2010'],\n",
    "          df2[df2['Article Type'] == 'Review']['Citations in 2010']],\n",
    "         \n",
    "         rwidth=1,\n",
    "         ec='black',\n",
    "         bins=15,\n",
    "         color=['blue', 'red'],\n",
    "         stacked=True,\n",
    "         label = ['Research Articles','Review Articles']\n",
    "        )\n",
    "\n",
    "\n",
    "plt.legend()\n",
    "plt.xlabel('No. of Citations')\n",
    "plt.ylabel('Frequency')\n",
    "plt.title('Distribution of number of citations received in 2010 by articles published in 2009');\n"
   ]
  },
  {
   "cell_type": "code",
   "execution_count": 20,
   "metadata": {
    "scrolled": false
   },
   "outputs": [
    {
     "data": {
      "image/png": "[encoded data removed]",
      "text/plain": [
       "<Figure size 576x360 with 1 Axes>"
      ]
     },
     "metadata": {
      "needs_background": "light"
     },
     "output_type": "display_data"
    }
   ],
   "source": [
    "plt.figure(figsize=(8,5))\n",
    "\n",
    "plt.hist([df1[df1['Article Type'] == 'Research Article']['Citations in 2010'],\n",
    "          df1[df1['Article Type'] == 'Review']['Citations in 2010'],\n",
    "          df2[df2['Article Type'] == 'Research Article']['Citations in 2010'],\n",
    "          df2[df2['Article Type'] == 'Review']['Citations in 2010']],\n",
    "         \n",
    "         rwidth=1,\n",
    "         ec='black',\n",
    "         bins=15,\n",
    "       \n",
    "         stacked=True,\n",
    "         label = ['2008 Research Articles','2008 Review Articles','2009 Research Articles','2009 Review Articles']\n",
    "        );\n",
    "\n",
    "\n",
    "plt.legend()\n",
    "plt.xlabel('No. of Citations')\n",
    "plt.ylabel('Frequency')\n",
    "plt.title('Distribution of number of citations received in 2010 by articles published in 2008 and 2009');\n"
   ]
  },
  {
   "cell_type": "code",
   "execution_count": 27,
   "metadata": {},
   "outputs": [
    {
     "data": {
      "image/png": "[encoded data removed]",
      "text/plain": [
       "<Figure size 576x360 with 1 Axes>"
      ]
     },
     "metadata": {
      "needs_background": "light"
     },
     "output_type": "display_data"
    }
   ],
   "source": [
    "plt.figure(figsize=(8,5))\n",
    "\n",
    "plt.hist([df1['Citations in 2010'],\n",
    "          df2['Citations in 2010']],\n",
    "         \n",
    "         rwidth=1,\n",
    "         ec='black',\n",
    "         bins=15,\n",
    "         color=['blue', 'red'],\n",
    "         stacked=True,\n",
    "         label = ['Citation for 2008 articles','Citation for 2009 articles']\n",
    "        )\n",
    "\n",
    "\n",
    "plt.legend()\n",
    "plt.xlabel('No. of Citations')\n",
    "plt.ylabel('Frequency')\n",
    "plt.title('Distribution of number of citations received in 2010 by all articles published in 2008 and 2009');\n"
   ]
  },
  {
   "cell_type": "code",
   "execution_count": 36,
   "metadata": {},
   "outputs": [
    {
     "name": "stdout",
     "output_type": "stream",
     "text": [
      "Mean of no. of articles published in 2008 :  54.62\n",
      "Median of no. of articles published in 2008 :  29.0\n",
      "Standard deviation of no. of articles published in 2008 :  75.76\n",
      "\n",
      "Mean of no. of articles published in 2009 :  35.38\n",
      "Median of no. of articles published in 2009 :  32.0\n",
      "Standard deviation of no. of articles published in 2009 :  21.59\n"
     ]
    }
   ],
   "source": [
    "print(\"Mean of no. of articles published in 2008 : \",round(df1['Citations in 2010'].mean(),2))\n",
    "print(\"Median of no. of articles published in 2008 : \",df1['Citations in 2010'].median())\n",
    "print(\"Standard deviation of no. of articles published in 2008 : \",round(df1['Citations in 2010'].std(),2))\n",
    "\n",
    "print()\n",
    "print(\"Mean of no. of articles published in 2009 : \",round(df2['Citations in 2010'].mean(),2))\n",
    "print(\"Median of no. of articles published in 2009 : \",df2['Citations in 2010'].median())\n",
    "print(\"Standard deviation of no. of articles published in 2009 : \",round(df2['Citations in 2010'].std(),2))"
   ]
  },
  {
   "cell_type": "code",
   "execution_count": 42,
   "metadata": {},
   "outputs": [],
   "source": [
    "df = pd.DataFrame()\n",
    "df = df.append([df1,df2],ignore_index=True)"
   ]
  },
  {
   "cell_type": "code",
   "execution_count": 104,
   "metadata": {},
   "outputs": [
    {
     "name": "stdout",
     "output_type": "stream",
     "text": [
      "Research Articles in 2008 and 2009\n",
      "No of research articles in sample data :  19\n",
      "Mean :  50.79\n",
      "Median :  30.0\n",
      "Standard deviation :  63.7\n"
     ]
    }
   ],
   "source": [
    "print('Research Articles in 2008 and 2009')\n",
    "\n",
    "mean_research = df[df['Article Type']=='Research Article']['Citations in 2010'].mean()\n",
    "median_research = df[df['Article Type']=='Research Article']['Citations in 2010'].median()\n",
    "std_research = df[df['Article Type']=='Research Article']['Citations in 2010'].std()\n",
    "n_research = len(df[df['Article Type']=='Research Article'])\n",
    "\n",
    "print('No of research articles in sample data : ',n_research)\n",
    "print('Mean : ', round(mean_research,2))\n",
    "print('Median : ',median_research)\n",
    "print('Standard deviation : ', round(std_research,2))"
   ]
  },
  {
   "cell_type": "code",
   "execution_count": 103,
   "metadata": {},
   "outputs": [
    {
     "name": "stdout",
     "output_type": "stream",
     "text": [
      "Review Articles in 2008 and 2009\n",
      "No of review articles in sample data :  7\n",
      "Mean :  29.29\n",
      "Median :  28.0\n",
      "Standard deviation :  15.62\n"
     ]
    }
   ],
   "source": [
    "print('Review Articles in 2008 and 2009')\n",
    "\n",
    "mean_review = df[df['Article Type']=='Review']['Citations in 2010'].mean()\n",
    "median_review = df[df['Article Type']=='Review']['Citations in 2010'].median()\n",
    "std_review = df[df['Article Type']=='Review']['Citations in 2010'].std()\n",
    "n_review = len(df[df['Article Type']=='Review']['Citations in 2010'])\n",
    "\n",
    "print('No of review articles in sample data : ',n_review)\n",
    "print('Mean : ', round(mean_review,2))\n",
    "print('Median : ',median_review)\n",
    "print('Standard deviation : ', round(std_review,2))"
   ]
  },
  {
   "cell_type": "code",
   "execution_count": 52,
   "metadata": {},
   "outputs": [],
   "source": [
    "n_review_2008 = df1[df1['Article Type']=='Review']['Citations in 2010'].sum()\n",
    "n_research_2008 = df1[df1['Article Type']=='Research Article']['Citations in 2010'].sum()\n",
    "\n",
    "n_review_2009 = df2[df2['Article Type']=='Review']['Citations in 2010'].sum()\n",
    "n_research_2009 = df2[df2['Article Type']=='Research Article']['Citations in 2010'].sum()"
   ]
  },
  {
   "cell_type": "code",
   "execution_count": 54,
   "metadata": {},
   "outputs": [
    {
     "data": {
      "text/html": [
       "<div>\n",
       "<style scoped>\n",
       "    .dataframe tbody tr th:only-of-type {\n",
       "        vertical-align: middle;\n",
       "    }\n",
       "\n",
       "    .dataframe tbody tr th {\n",
       "        vertical-align: top;\n",
       "    }\n",
       "\n",
       "    .dataframe thead th {\n",
       "        text-align: right;\n",
       "    }\n",
       "</style>\n",
       "<table border=\"1\" class=\"dataframe\">\n",
       "  <thead>\n",
       "    <tr style=\"text-align: right;\">\n",
       "      <th></th>\n",
       "      <th>Review</th>\n",
       "      <th>Research</th>\n",
       "    </tr>\n",
       "  </thead>\n",
       "  <tbody>\n",
       "    <tr>\n",
       "      <th>2008</th>\n",
       "      <td>115</td>\n",
       "      <td>595</td>\n",
       "    </tr>\n",
       "    <tr>\n",
       "      <th>2009</th>\n",
       "      <td>90</td>\n",
       "      <td>370</td>\n",
       "    </tr>\n",
       "  </tbody>\n",
       "</table>\n",
       "</div>"
      ],
      "text/plain": [
       "      Review  Research\n",
       "2008     115       595\n",
       "2009      90       370"
      ]
     },
     "execution_count": 54,
     "metadata": {},
     "output_type": "execute_result"
    }
   ],
   "source": [
    "pd.DataFrame({'Review':[n_review_2008,n_review_2009],'Research':[n_research_2008,n_research_2009]},index=['2008','2009'])"
   ]
  },
  {
   "cell_type": "code",
   "execution_count": 99,
   "metadata": {},
   "outputs": [
    {
     "name": "stdout",
     "output_type": "stream",
     "text": [
      "Mean of data :  45.0\n",
      "Median of data :  29.5\n",
      "Standard deviation of data :  55.45\n"
     ]
    }
   ],
   "source": [
    "print('Mean of data : ', df['Citations in 2010'].mean())\n",
    "print('Median of data : ', df['Citations in 2010'].median())\n",
    "print('Standard deviation of data : ', round(df['Citations in 2010'].std(), 2))"
   ]
  },
  {
   "cell_type": "code",
   "execution_count": 79,
   "metadata": {},
   "outputs": [
    {
     "name": "stdout",
     "output_type": "stream",
     "text": [
      "Mean JIF for 2010 :  45.0\n",
      "Median of data :  29.5\n",
      "Standard deviation of data :  55.45\n"
     ]
    }
   ],
   "source": [
    "print('Mean JIF for 2010 : ', df['Citations in 2010'].mean())\n",
    "print('Median of data : ', df['Citations in 2010'].median())\n",
    "print('Standard deviation of data : ', round(df['Citations in 2010'].std(), 2))"
   ]
  },
  {
   "cell_type": "code",
   "execution_count": 92,
   "metadata": {},
   "outputs": [
    {
     "name": "stdout",
     "output_type": "stream",
     "text": [
      "t-score :  2.06\n",
      "95% confidence interval for our data using t statistics : (22.6, 67.4)\n"
     ]
    }
   ],
   "source": [
    "import scipy.stats as st\n",
    "\n",
    "\n",
    "def confidence(a, conf=0.95):\n",
    "    mean, sem, t = np.mean(a), st.sem(a), st.t.ppf((1 + conf) / 2, len(a) - 1)\n",
    "    print('t-score : ', round(t, 2))\n",
    "    return round(mean - t * sem, 2), round(mean + t * sem, 2)\n",
    "\n",
    "\n",
    "print('95% confidence interval for our data using t statistics :',\n",
    "      confidence(df['Citations in 2010']))"
   ]
  }
 ],
 "metadata": {
  "kernelspec": {
   "display_name": "Python 3",
   "language": "python",
   "name": "python3"
  },
  "language_info": {
   "codemirror_mode": {
    "name": "ipython",
    "version": 3
   },
   "file_extension": ".py",
   "mimetype": "text/x-python",
   "name": "python",
   "nbconvert_exporter": "python",
   "pygments_lexer": "ipython3",
   "version": "3.9.0"
  },
  "latex_envs": {
   "LaTeX_envs_menu_present": true,
   "autoclose": false,
   "autocomplete": true,
   "bibliofile": "biblio.bib",
   "cite_by": "apalike",
   "current_citInitial": 1,
   "eqLabelWithNumbers": true,
   "eqNumInitial": 1,
   "hotkeys": {
    "equation": "Ctrl-E",
    "itemize": "Ctrl-I"
   },
   "labels_anchors": false,
   "latex_user_defs": false,
   "report_style_numbering": false,
   "user_envs_cfg": false
  },
  "varInspector": {
   "cols": {
    "lenName": 16,
    "lenType": 16,
    "lenVar": 40
   },
   "kernels_config": {
    "python": {
     "delete_cmd_postfix": "",
     "delete_cmd_prefix": "del ",
     "library": "var_list.py",
     "varRefreshCmd": "print(var_dic_list())"
    },
    "r": {
     "delete_cmd_postfix": ") ",
     "delete_cmd_prefix": "rm(",
     "library": "var_list.r",
     "varRefreshCmd": "cat(var_dic_list()) "
    }
   },
   "types_to_exclude": [
    "module",
    "function",
    "builtin_function_or_method",
    "instance",
    "_Feature"
   ],
   "window_display": false
  }
 },
 "nbformat": 4,
 "nbformat_minor": 4
}
